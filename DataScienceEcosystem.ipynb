{
  "nbformat": 4,
  "nbformat_minor": 0,
  "metadata": {
    "colab": {
      "provenance": [],
      "authorship_tag": "ABX9TyOmcHIpqWkcCzSlURTQI0q5",
      "include_colab_link": true
    },
    "kernelspec": {
      "name": "python3",
      "display_name": "Python 3"
    },
    "language_info": {
      "name": "python"
    }
  },
  "cells": [
    {
      "cell_type": "markdown",
      "metadata": {
        "id": "view-in-github",
        "colab_type": "text"
      },
      "source": [
        "<a href=\"https://colab.research.google.com/github/BananaJuise/Dt-Sci/blob/main/DataScienceEcosystem.ipynb\" target=\"_parent\"><img src=\"https://colab.research.google.com/assets/colab-badge.svg\" alt=\"Open In Colab\"/></a>"
      ]
    },
    {
      "cell_type": "markdown",
      "source": [
        "2"
      ],
      "metadata": {
        "id": "7aoo_Nya0qlz"
      }
    },
    {
      "cell_type": "markdown",
      "source": [
        "# Data Science Tools and Ecosystem\n",
        "\n"
      ],
      "metadata": {
        "id": "XkgffJmMvm-T"
      }
    },
    {
      "cell_type": "markdown",
      "source": [
        "3"
      ],
      "metadata": {
        "id": "snIFZcmA0oM6"
      }
    },
    {
      "cell_type": "markdown",
      "source": [
        "In this notebook, Data Science Tools and Ecosystem are summarized.\n"
      ],
      "metadata": {
        "id": "T26xTMfjvoT-"
      }
    },
    {
      "cell_type": "markdown",
      "source": [
        "\n",
        "4"
      ],
      "metadata": {
        "id": "Dd7eyXYEw6My"
      }
    },
    {
      "cell_type": "markdown",
      "source": [
        "Some of the popular languages that Data Scientists use are:\n",
        "1. R language\n",
        "2. Pyrthon\n",
        "3. Julia"
      ],
      "metadata": {
        "id": "l9BtAkaqwbfc"
      }
    },
    {
      "cell_type": "markdown",
      "source": [
        "5"
      ],
      "metadata": {
        "id": "sMWurxWD0cFH"
      }
    },
    {
      "cell_type": "markdown",
      "source": [
        "Some of the commonly used libraries used by Data Scientists include:\n",
        "1. pandas\n",
        "2. numpy libraries\n",
        "3. seaborn"
      ],
      "metadata": {
        "id": "leXCQSMYw9wI"
      }
    },
    {
      "cell_type": "markdown",
      "source": [
        "6\n"
      ],
      "metadata": {
        "id": "da48YDsb0Xx2"
      }
    },
    {
      "cell_type": "markdown",
      "source": [
        "| Data Science Tool|\n",
        "|--------|\n",
        "|watson studio|\n",
        "|jupyter|\n",
        "|R studio|\n",
        "\n",
        "\n"
      ],
      "metadata": {
        "id": "j-UU32qyxdQm"
      }
    },
    {
      "cell_type": "markdown",
      "source": [
        "7"
      ],
      "metadata": {
        "id": "e41jRvBs1BYW"
      }
    },
    {
      "cell_type": "markdown",
      "source": [
        "### Below are a few examples of evaluating arithmetic expressions in Python"
      ],
      "metadata": {
        "id": "EIKF0B2X1Caf"
      }
    },
    {
      "cell_type": "markdown",
      "source": [
        "8"
      ],
      "metadata": {
        "id": "ullz1AbT1K-a"
      }
    },
    {
      "cell_type": "markdown",
      "source": [
        "This a simple arithmetic expression to mutiply then add integers"
      ],
      "metadata": {
        "id": "cZqtSX4M1M7J"
      }
    },
    {
      "cell_type": "code",
      "source": [
        "(3*4)+5"
      ],
      "metadata": {
        "colab": {
          "base_uri": "https://localhost:8080/"
        },
        "id": "BQVnrHD51QBE",
        "outputId": "2d6d2343-ab6e-40d3-d4a4-61d74ae8b7d6"
      },
      "execution_count": 2,
      "outputs": [
        {
          "output_type": "execute_result",
          "data": {
            "text/plain": [
              "17"
            ]
          },
          "metadata": {},
          "execution_count": 2
        }
      ]
    },
    {
      "cell_type": "markdown",
      "source": [
        "9\n"
      ],
      "metadata": {
        "id": "vmiCbrhf0-Cj"
      }
    },
    {
      "cell_type": "markdown",
      "source": [
        " This will convert 200 minutes to hours by diving by 60"
      ],
      "metadata": {
        "id": "rN4jEP971eU8"
      }
    },
    {
      "cell_type": "code",
      "execution_count": 1,
      "metadata": {
        "colab": {
          "base_uri": "https://localhost:8080/"
        },
        "id": "DDIx2nDuvELI",
        "outputId": "e6060f16-74b2-4338-8495-00be03a65995"
      },
      "outputs": [
        {
          "output_type": "execute_result",
          "data": {
            "text/plain": [
              "3.3333333333333335"
            ]
          },
          "metadata": {},
          "execution_count": 1
        }
      ],
      "source": [
        "200/60\n"
      ]
    },
    {
      "cell_type": "markdown",
      "source": [
        "10"
      ],
      "metadata": {
        "id": "GaOKlyIG1iyX"
      }
    },
    {
      "cell_type": "markdown",
      "source": [
        "**Objectives:**\n",
        "\n",
        "\n",
        "*   creating jupyter notebooks\n",
        "*   Listeg the most Popular languages used in dt Sci\n",
        "* Listeg some of the Popular Tools used in dt Sci\n",
        "* overview. on python and R languages\n",
        "* Overview on Github\n",
        "\n",
        "\n"
      ],
      "metadata": {
        "id": "q82pz7pJ1kXH"
      }
    },
    {
      "cell_type": "markdown",
      "source": [
        "11"
      ],
      "metadata": {
        "id": "dhADd72j3I79"
      }
    },
    {
      "cell_type": "markdown",
      "source": [
        "## Author\n",
        "Me"
      ],
      "metadata": {
        "id": "6TX1zBJO3Bsa"
      }
    }
  ]
}